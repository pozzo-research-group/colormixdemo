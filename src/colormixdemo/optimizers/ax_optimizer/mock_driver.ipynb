{
 "cells": [
  {
   "cell_type": "code",
   "execution_count": 3,
   "id": "34e04e3f-fa6a-4635-87ce-fe2744aa4372",
   "metadata": {},
   "outputs": [],
   "source": [
    "from ax.service.ax_client import AxClient, ObjectiveProperties\n",
    "from ax.utils.measurement.synthetic_functions import hartmann6\n",
    "from ax.utils.notebook.plotting import init_notebook_plotting, render\n",
    "\n",
    "import numpy as np\n",
    "\n",
    "import requests"
   ]
  },
  {
   "cell_type": "markdown",
   "id": "9b22f9e4-5043-4efb-9567-3351caa08fcb",
   "metadata": {},
   "source": [
    "Mock 'driver'/ ax service client. Call the 'launch new experiment' endpoint, then query the /update campaign endpoint with new data "
   ]
  },
  {
   "cell_type": "code",
   "execution_count": 106,
   "id": "247805d1-0c98-4ba4-98ec-9d6efd4df5e5",
   "metadata": {},
   "outputs": [],
   "source": [
    "def evaluate(parameterization):\n",
    "    x = np.array([parameterization.get(f\"x{i+1}\") for i in range(6)])\n",
    "    return {\"hartmann6\": (hartmann6(x), 0.0)}"
   ]
  },
  {
   "cell_type": "code",
   "execution_count": 87,
   "id": "98b5d82b-dccb-43c3-9e38-a53bf4d6e48e",
   "metadata": {},
   "outputs": [],
   "source": [
    "num_init_trials = 12\n",
    "\n",
    "init_trials = []\n",
    "\n",
    "for i in range(num_init_trials):\n",
    "    init_x = np.random.rand(6)\n",
    "    init_parameterization = {f\"x{i+1}\":xval for i, xval in enumerate(init_x)}\n",
    "    init_data = {\"hartmann6\": (hartmann6(init_x), 0.0)}\n",
    "    init_trial = {\"parameterization\":init_parameterization, \"results\":init_data}\n",
    "    init_trials.append(init_trial)"
   ]
  },
  {
   "cell_type": "code",
   "execution_count": 92,
   "id": "3e38baaa-247c-40e1-b13b-db604923f351",
   "metadata": {},
   "outputs": [],
   "source": [
    "# 1. set new experiment\n",
    "\n",
    "response = requests.post('http://127.0.0.1:5000/new_experiment')"
   ]
  },
  {
   "cell_type": "code",
   "execution_count": 93,
   "id": "751c22e8-3a8e-4924-91b7-1cc6e039d5ca",
   "metadata": {},
   "outputs": [
    {
     "data": {
      "text/plain": [
       "b'Initialized new experiment'"
      ]
     },
     "execution_count": 93,
     "metadata": {},
     "output_type": "execute_result"
    }
   ],
   "source": [
    "response.content"
   ]
  },
  {
   "cell_type": "code",
   "execution_count": 94,
   "id": "669d1631-c7d4-414e-97be-cead594e7f2d",
   "metadata": {},
   "outputs": [
    {
     "data": {
      "text/plain": [
       "dict_keys(['hartmann6'])"
      ]
     },
     "execution_count": 94,
     "metadata": {},
     "output_type": "execute_result"
    }
   ],
   "source": [
    "init_trials[0]['results'].keys()"
   ]
  },
  {
   "cell_type": "code",
   "execution_count": 95,
   "id": "42d53602-4a0b-49bb-bb34-73e1f9aeed62",
   "metadata": {},
   "outputs": [],
   "source": [
    "r = requests.post('http://127.0.0.1:5000/append_data', json = init_trials)"
   ]
  },
  {
   "cell_type": "code",
   "execution_count": 99,
   "id": "5b8ac2ed-24c7-4111-9bd4-e857df702622",
   "metadata": {},
   "outputs": [],
   "source": [
    "r = requests.get('http://127.0.0.1:5000/check_trials')"
   ]
  },
  {
   "cell_type": "code",
   "execution_count": 101,
   "id": "eb3c4400-0f76-4162-86a7-6e6975b0522c",
   "metadata": {},
   "outputs": [
    {
     "data": {
      "text/plain": [
       "b'Current trials are [0, 1, 2, 3, 4, 5, 6, 7, 8, 9, 10, 11, 12]'"
      ]
     },
     "execution_count": 101,
     "metadata": {},
     "output_type": "execute_result"
    }
   ],
   "source": [
    "r.content"
   ]
  },
  {
   "cell_type": "code",
   "execution_count": 111,
   "id": "77fe13ac-4dc3-425c-9e1a-8c3c33511fab",
   "metadata": {},
   "outputs": [],
   "source": [
    "trial_data = requests.get('http://127.0.0.1:5000/get_next_trial')"
   ]
  },
  {
   "cell_type": "code",
   "execution_count": 112,
   "id": "629edf43-a03f-4fb0-9dc6-d4c248ebed33",
   "metadata": {},
   "outputs": [
    {
     "data": {
      "text/plain": [
       "<Response [200]>"
      ]
     },
     "execution_count": 112,
     "metadata": {},
     "output_type": "execute_result"
    }
   ],
   "source": [
    "trial_data"
   ]
  },
  {
   "cell_type": "code",
   "execution_count": 113,
   "id": "1ee93518-6c7a-4e44-ae79-6a5a75cea025",
   "metadata": {},
   "outputs": [
    {
     "data": {
      "text/plain": [
       "{'parameterization': {'x1': 0.13046890191068267,\n",
       "  'x2': 0.3523424846459916,\n",
       "  'x3': 0.37606535692064263,\n",
       "  'x4': 0.007228339100169378,\n",
       "  'x5': 0.6585345341310248,\n",
       "  'x6': 0.8117258055061629},\n",
       " 'trial_index': 13}"
      ]
     },
     "execution_count": 113,
     "metadata": {},
     "output_type": "execute_result"
    }
   ],
   "source": [
    "trial_data.json()"
   ]
  },
  {
   "cell_type": "code",
   "execution_count": 102,
   "id": "ffe19dd1-c2ec-4c62-aa7f-3632230b7697",
   "metadata": {},
   "outputs": [],
   "source": [
    "parameterization = trial_data.json()['parameterization']\n",
    "trial_index = trial_data.json()['trial_index']"
   ]
  },
  {
   "cell_type": "code",
   "execution_count": 103,
   "id": "30e1fb0f-612a-4a42-a2de-37febf7c578a",
   "metadata": {},
   "outputs": [
    {
     "data": {
      "text/plain": [
       "{'x1': 0.12952612361032356,\n",
       " 'x2': 0.3161371828308319,\n",
       " 'x3': 0.4356693753712687,\n",
       " 'x4': 0.03836543717822905,\n",
       " 'x5': 0.5647218478354402,\n",
       " 'x6': 0.7979930295270102}"
      ]
     },
     "execution_count": 103,
     "metadata": {},
     "output_type": "execute_result"
    }
   ],
   "source": [
    "parameterization"
   ]
  },
  {
   "cell_type": "code",
   "execution_count": 107,
   "id": "e62fdfdc-67f8-4030-a69f-6683350d4f6b",
   "metadata": {},
   "outputs": [],
   "source": [
    "results = evaluate(parameterization)"
   ]
  },
  {
   "cell_type": "code",
   "execution_count": 108,
   "id": "76fd6ca4-e9de-4021-a306-1b68eda9aa11",
   "metadata": {},
   "outputs": [
    {
     "data": {
      "text/plain": [
       "{'hartmann6': (-0.8447711151439348, 0.0)}"
      ]
     },
     "execution_count": 108,
     "metadata": {},
     "output_type": "execute_result"
    }
   ],
   "source": [
    "results"
   ]
  },
  {
   "cell_type": "code",
   "execution_count": 109,
   "id": "7ff41849-60dd-4de1-a672-193f9436c370",
   "metadata": {},
   "outputs": [],
   "source": [
    "result_data = {'trial_index':trial_index, 'results':results}"
   ]
  },
  {
   "cell_type": "code",
   "execution_count": 110,
   "id": "2689643a-4157-43ff-8b43-effdb195dba3",
   "metadata": {},
   "outputs": [
    {
     "data": {
      "text/plain": [
       "<Response [200]>"
      ]
     },
     "execution_count": 110,
     "metadata": {},
     "output_type": "execute_result"
    }
   ],
   "source": [
    "requests.get('http://127.0.0.1:5000/complete_trial', json = result_data)"
   ]
  },
  {
   "cell_type": "code",
   "execution_count": null,
   "id": "83595062-b4f5-47da-a129-d88aa5ff0159",
   "metadata": {},
   "outputs": [],
   "source": []
  }
 ],
 "metadata": {
  "kernelspec": {
   "display_name": "Python 3 (ipykernel)",
   "language": "python",
   "name": "python3"
  },
  "language_info": {
   "codemirror_mode": {
    "name": "ipython",
    "version": 3
   },
   "file_extension": ".py",
   "mimetype": "text/x-python",
   "name": "python",
   "nbconvert_exporter": "python",
   "pygments_lexer": "ipython3",
   "version": "3.12.2"
  }
 },
 "nbformat": 4,
 "nbformat_minor": 5
}
