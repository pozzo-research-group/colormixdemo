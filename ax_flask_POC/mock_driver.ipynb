{
 "cells": [
  {
   "cell_type": "code",
   "execution_count": 3,
   "id": "34e04e3f-fa6a-4635-87ce-fe2744aa4372",
   "metadata": {},
   "outputs": [],
   "source": [
    "from ax.service.ax_client import AxClient, ObjectiveProperties\n",
    "from ax.utils.measurement.synthetic_functions import hartmann6\n",
    "from ax.utils.notebook.plotting import init_notebook_plotting, render\n",
    "\n",
    "import numpy as np\n",
    "\n",
    "import requests"
   ]
  },
  {
   "cell_type": "markdown",
   "id": "9b22f9e4-5043-4efb-9567-3351caa08fcb",
   "metadata": {},
   "source": [
    "Mock 'driver'/ ax service client. Call the 'launch new experiment' endpoint, then query the /update campaign endpoint with new data "
   ]
  },
  {
   "cell_type": "code",
   "execution_count": 2,
   "id": "247805d1-0c98-4ba4-98ec-9d6efd4df5e5",
   "metadata": {},
   "outputs": [],
   "source": [
    "def evaluate(parameterization):\n",
    "    x = np.array([parameterization.get(f\"x{i+1}\") for i in range(6)])\n",
    "    return {\"hartmann6\": (hartmann6(x), 0.0), \"l2norm\":(np.sqrt((x**2).sum()), 0.0)}"
   ]
  },
  {
   "cell_type": "code",
   "execution_count": 36,
   "id": "3e38baaa-247c-40e1-b13b-db604923f351",
   "metadata": {},
   "outputs": [],
   "source": [
    "# 1. set new experiment\n",
    "\n",
    "response = requests.post('http://127.0.0.1:5000/new_experiment')"
   ]
  },
  {
   "cell_type": "code",
   "execution_count": 37,
   "id": "751c22e8-3a8e-4924-91b7-1cc6e039d5ca",
   "metadata": {},
   "outputs": [
    {
     "data": {
      "text/plain": [
       "b'Initialized new experiment'"
      ]
     },
     "execution_count": 37,
     "metadata": {},
     "output_type": "execute_result"
    }
   ],
   "source": [
    "response.content"
   ]
  },
  {
   "cell_type": "code",
   "execution_count": 47,
   "id": "77fe13ac-4dc3-425c-9e1a-8c3c33511fab",
   "metadata": {},
   "outputs": [],
   "source": [
    "trial_data = requests.get('http://127.0.0.1:5000/get_next_trial')"
   ]
  },
  {
   "cell_type": "code",
   "execution_count": 48,
   "id": "629edf43-a03f-4fb0-9dc6-d4c248ebed33",
   "metadata": {},
   "outputs": [
    {
     "data": {
      "text/plain": [
       "<Response [200]>"
      ]
     },
     "execution_count": 48,
     "metadata": {},
     "output_type": "execute_result"
    }
   ],
   "source": [
    "trial_data"
   ]
  },
  {
   "cell_type": "code",
   "execution_count": 49,
   "id": "1ee93518-6c7a-4e44-ae79-6a5a75cea025",
   "metadata": {},
   "outputs": [
    {
     "data": {
      "text/plain": [
       "{'parameterization': {'x1': 0.5437300326302648,\n",
       "  'x2': 0.08437505271285772,\n",
       "  'x3': 0.5857523065060377,\n",
       "  'x4': 0.3651215313002467,\n",
       "  'x5': 0.7211774857714772,\n",
       "  'x6': 0.21486885007470846},\n",
       " 'trial_index': 1}"
      ]
     },
     "execution_count": 49,
     "metadata": {},
     "output_type": "execute_result"
    }
   ],
   "source": [
    "trial_data.json()"
   ]
  },
  {
   "cell_type": "code",
   "execution_count": 50,
   "id": "ffe19dd1-c2ec-4c62-aa7f-3632230b7697",
   "metadata": {},
   "outputs": [],
   "source": [
    "parameterization = trial_data.json()['parameterization']\n",
    "trial_index = trial_data.json()['trial_index']"
   ]
  },
  {
   "cell_type": "code",
   "execution_count": 51,
   "id": "30e1fb0f-612a-4a42-a2de-37febf7c578a",
   "metadata": {},
   "outputs": [
    {
     "data": {
      "text/plain": [
       "{'x1': 0.5437300326302648,\n",
       " 'x2': 0.08437505271285772,\n",
       " 'x3': 0.5857523065060377,\n",
       " 'x4': 0.3651215313002467,\n",
       " 'x5': 0.7211774857714772,\n",
       " 'x6': 0.21486885007470846}"
      ]
     },
     "execution_count": 51,
     "metadata": {},
     "output_type": "execute_result"
    }
   ],
   "source": [
    "parameterization"
   ]
  },
  {
   "cell_type": "code",
   "execution_count": 52,
   "id": "e62fdfdc-67f8-4030-a69f-6683350d4f6b",
   "metadata": {},
   "outputs": [],
   "source": [
    "results = evaluate(parameterization)"
   ]
  },
  {
   "cell_type": "code",
   "execution_count": 53,
   "id": "76fd6ca4-e9de-4021-a306-1b68eda9aa11",
   "metadata": {},
   "outputs": [
    {
     "data": {
      "text/plain": [
       "{'hartmann6': (-0.061932165241241476, 0.0), 'l2norm': (1.159933870449813, 0.0)}"
      ]
     },
     "execution_count": 53,
     "metadata": {},
     "output_type": "execute_result"
    }
   ],
   "source": [
    "results"
   ]
  },
  {
   "cell_type": "code",
   "execution_count": 54,
   "id": "7ff41849-60dd-4de1-a672-193f9436c370",
   "metadata": {},
   "outputs": [],
   "source": [
    "result_data = {'trial_index':trial_index, 'results':results}"
   ]
  },
  {
   "cell_type": "code",
   "execution_count": 55,
   "id": "2689643a-4157-43ff-8b43-effdb195dba3",
   "metadata": {},
   "outputs": [
    {
     "data": {
      "text/plain": [
       "<Response [200]>"
      ]
     },
     "execution_count": 55,
     "metadata": {},
     "output_type": "execute_result"
    }
   ],
   "source": [
    "requests.get('http://127.0.0.1:5000/complete_trial', json = result_data)"
   ]
  },
  {
   "cell_type": "code",
   "execution_count": null,
   "id": "83595062-b4f5-47da-a129-d88aa5ff0159",
   "metadata": {},
   "outputs": [],
   "source": []
  }
 ],
 "metadata": {
  "kernelspec": {
   "display_name": "Python 3 (ipykernel)",
   "language": "python",
   "name": "python3"
  },
  "language_info": {
   "codemirror_mode": {
    "name": "ipython",
    "version": 3
   },
   "file_extension": ".py",
   "mimetype": "text/x-python",
   "name": "python",
   "nbconvert_exporter": "python",
   "pygments_lexer": "ipython3",
   "version": "3.12.2"
  }
 },
 "nbformat": 4,
 "nbformat_minor": 5
}
